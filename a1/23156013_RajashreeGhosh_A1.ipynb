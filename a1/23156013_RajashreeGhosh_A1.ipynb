{
 "cells": [
  {
   "cell_type": "markdown",
   "metadata": {
    "id": "mMSd1qksNSSB"
   },
   "source": [
    "**Name:** <br />\n",
    "**Roll No:** \n",
    "***\n",
    "## Instructions\n",
    "\n",
    "- **Release Date**: **19th Apr 2024**  \n",
    "- **Deadline**: **28nd Apr 2024 11:59PM**\n",
    "- Kindly name your submission files as `RollNo_Name_A1.ipynb`.  <br />\n",
    "- You are required to work out your answers and submit only the iPython Notebook. The code should be well commented and easy to understand as there are marks for this. This notebook can be used as a template for assignment submission. <br />\n",
    "- Submissions are to be made through iPearl portal. Submissions made through mail will not be graded.<br />\n",
    "- Answers to the theory questions if any should be included in the notebook itself. While using special symbols use the $\\LaTeX$ mode <br />\n",
    "- Make sure your plots are clear and have title, legends and clear lines, etc. <br />\n",
    "- Plagiarism of any form will not be tolerated. If your solutions are found to match with other students or from other uncited sources, there will be heavy penalties and the incident will be reported to the disciplinary authorities. <br />\n",
    "- In case you have any doubts, feel free to reach out to TAs for help. <br />\n",
    "\n",
    "***\n"
   ]
  },
  {
   "cell_type": "code",
   "execution_count": 1,
   "metadata": {
    "id": "MSKDiY9peER7"
   },
   "outputs": [],
   "source": [
    "# Required Libraries\n",
    "import numpy as np\n",
    "import random\n",
    "import matplotlib.pyplot as plt"
   ]
  },
  {
   "cell_type": "code",
   "execution_count": 2,
   "metadata": {
    "id": "bD1s-Q95emK4"
   },
   "outputs": [],
   "source": [
    "# Parameters\n",
    "num_experiments = 500\n",
    "T = 10000\n",
    "K = 2\n",
    "delta = 1/4\n",
    "delta_values = [0.05, 0.1, 0.2, 0.3, 0.4, 0.45]\n"
   ]
  },
  {
   "cell_type": "markdown",
   "metadata": {
    "id": "5shlo1uZfS5s"
   },
   "source": [
    "***\n",
    "## Example\n",
    "\n",
    "Consider a two-armed Bernoulli bandit scenario with true means given by $\\mu(0) = \\frac{1}{2}, \\mu(1)= \\frac{1}{2}+\\Delta$, for some $\\Delta < \\frac{1}{2}$. In the Bernoulli bandit scenario the environment generates a binary reward (either 1 or 0) by flipping a coin with the true mean of the chosen arm as the bias.  \n",
    "\n",
    "Let the time horizon be $T=10000$. `[20 Marks]`"
   ]
  },
  {
   "cell_type": "markdown",
   "metadata": {
    "id": "o44G_Z6xfg59"
   },
   "source": [
    "### E1\n",
    "We take $\\Delta=\\frac{1}{4}$ and run the Monte Carlo simulations to estimate the expected regret of the ETC algorithm which explores each arm $m = T^{2/3} (\\log T)^{1/3}$ times before committing. Specifically, we run the ETC algorithm to compute the sample regret\n",
    "$$ \\mu(1) * T - \\sum_{t=1}^T R_t, $$\n",
    "where $R_t$ is the reward obtained in time step $t$.\n",
    "\n",
    "Let us repeat this experiment 500 times and estimate the expected regret by taking the average of the sample regrets you obtained in all those 500 experiments."
   ]
  },
  {
   "cell_type": "code",
   "execution_count": 3,
   "metadata": {
    "colab": {
     "base_uri": "https://localhost:8080/"
    },
    "id": "K-ycXEBhfl1O",
    "outputId": "eb785cb0-5995-4a79-92cf-391d6871439f"
   },
   "outputs": [
    {
     "name": "stdout",
     "output_type": "stream",
     "text": [
      "Average Regret: 242.47\n"
     ]
    }
   ],
   "source": [
    "## E1: ETC Demo Code ##\n",
    "\n",
    "# Monte Carlo simulations\n",
    "total_regrets = []\n",
    "\n",
    "for _ in range(num_experiments):\n",
    "    # Generate true means based on given values and arms\n",
    "    mu0 = 1/2\n",
    "    mu1 = 1/2 + delta\n",
    "\n",
    "    # Initialize ETC algorithm parameters\n",
    "    m = int(T**(2/3) * (np.log(T))**(1/3))\n",
    "    empirical_means = np.zeros(K)\n",
    "    arm_counts = np.zeros(K)\n",
    "    total_regret = 0\n",
    "\n",
    "    # Run ETC algorithm\n",
    "    for t in range(1, T + 1):\n",
    "        # Code for choosing the arm here for the ETC algorithm\n",
    "        # Explore each arm m times then -> Commit to the arm with the highest empirical mean\n",
    "        # store the chosen arm in the variable chosen_arm\n",
    "        # this will be 0 if Arm 0 is chosen and 1 if Arm 1 is chosen\n",
    "        if t <= K * m:\n",
    "            chosen_arm = (t - 1) % K\n",
    "        else:\n",
    "            chosen_arm = np.argmax(empirical_means)\n",
    "\n",
    "        # Observe the reward from the environment for the chosen arm\n",
    "        reward = np.random.binomial(1, mu0 if chosen_arm == 0 else mu1)\n",
    "\n",
    "        # Update arm_counts and empirical_means for the chosen_arm\n",
    "        arm_counts[chosen_arm] += 1\n",
    "        empirical_means[chosen_arm] = (empirical_means[chosen_arm] * (arm_counts[chosen_arm] - 1) + reward) / arm_counts[chosen_arm]\n",
    "\n",
    "        # Update total regret based on reward recieved\n",
    "        # update the variable total_regret\n",
    "        total_regret += mu1  - reward\n",
    "\n",
    "    # Record total regrets over all the experiments\n",
    "    total_regrets.append(total_regret)\n",
    "\n",
    "# Calculate average regret\n",
    "average_regret = np.mean(total_regrets)\n",
    "\n",
    "print(f\"Average Regret: {average_regret}\")\n"
   ]
  },
  {
   "cell_type": "markdown",
   "metadata": {
    "id": "Vq-lMauqgN9c"
   },
   "source": [
    "**Few Points Regarding ETC(Explore-Then-Commit) algorithm-**  <br />\n",
    "The ETC (Explore-Then-Commit) algorithm is a bandit algorithm that explores each arm a certain number of times before committing to the arm with the highest estimated mean. In this case, the exploration parameter is set as $𝑚 = 𝑇^{2/3} (\\log 𝑇)^{1/3}$.<br />\n"
   ]
  },
  {
   "cell_type": "markdown",
   "metadata": {
    "id": "j4Rg8YmvhoCM"
   },
   "source": [
    "### E2\n",
    "\n",
    "Now we repeat the above for various values of $\\Delta \\in \\{0.05, 0.1, 0.2, 0.3, 0.4, 0.45\\}$ and plot the estimated regret as a function of $\\Delta$."
   ]
  },
  {
   "cell_type": "code",
   "execution_count": 4,
   "metadata": {
    "colab": {
     "base_uri": "https://localhost:8080/",
     "height": 472
    },
    "id": "75qdJet4hzZ2",
    "outputId": "4f938842-d984-4c94-db21-cef004ecef90"
   },
   "outputs": [
    {
     "name": "stdout",
     "output_type": "stream",
     "text": [
      "[46.84999999998612, 98.15399999996184, 196.4759999999074, 291.8420000001022, 385.409999999807, 438.28799999989405]\n"
     ]
    }
   ],
   "source": [
    "## E2: ETC regret plot for different delta ##\n",
    "\n",
    "# Initialize lists to store results\n",
    "average_regrets_etc = []\n",
    "\n",
    "for delta in delta_values:\n",
    "    total_regrets = []\n",
    "\n",
    "    for _ in range(num_experiments):\n",
    "        # Generate true means based on given values and arms\n",
    "        mu0 = 0.5\n",
    "        mu1 = 0.5 + delta\n",
    "\n",
    "        # Initialize ETC algorithm parameters\n",
    "        m = int(T**(2/3) * (np.log(T))**(1/3))\n",
    "        empirical_means = np.zeros(K)\n",
    "        arm_counts = np.zeros(K)\n",
    "        total_regret = 0\n",
    "\n",
    "        # Run ETC algorithm\n",
    "        for t in range(1, T + 1):\n",
    "            # Code for choosing the arm for the ETC algorithm\n",
    "            # Explore each arm m times then -> Commit to the arm with the highest empirical mean\n",
    "            # store the chosen arm in the variable chosen_arm\n",
    "            # this will be 0 if Arm 0 is chosen and 1 if Arm 1 is chosen\n",
    "            if t <= K * m:\n",
    "                chosen_arm = (t - 1) % K\n",
    "            else:\n",
    "                # Commit to the arm with the highest empirical mean\n",
    "                chosen_arm = np.argmax(empirical_means)\n",
    "\n",
    "            # Observe the reward from the environment for the chosen arm\n",
    "            reward = np.random.binomial(1, mu0 if chosen_arm == 0 else mu1)\n",
    "\n",
    "            # Update arm_counts and empirical_means for the chosen_arm\n",
    "            arm_counts[chosen_arm] += 1\n",
    "            empirical_means[chosen_arm] = (empirical_means[chosen_arm] * (arm_counts[chosen_arm] - 1) + reward) / arm_counts[chosen_arm]\n",
    "\n",
    "            # Update total regret\n",
    "            # update the variable total_regret\n",
    "            total_regret += mu1 - reward\n",
    "\n",
    "        # Record total regret for this experiment\n",
    "        total_regrets.append(total_regret)\n",
    "\n",
    "    # Calculate average regret for this delta\n",
    "    average_regret = np.mean(total_regrets)\n",
    "    average_regrets_etc.append(average_regret)\n",
    "\n",
    "# print average regrets\n",
    "print(average_regrets_etc)"
   ]
  },
  {
   "cell_type": "code",
   "execution_count": 5,
   "metadata": {},
   "outputs": [
    {
     "data": {
      "image/png": "[encoded data removed]",
      "text/plain": [
       "<Figure size 640x480 with 1 Axes>"
      ]
     },
     "metadata": {},
     "output_type": "display_data"
    }
   ],
   "source": [
    "# Plotting\n",
    "plt.plot(delta_values, average_regrets_etc, marker='o',label = 'ETC Regret')\n",
    "plt.xlabel('Delta')\n",
    "plt.ylabel('Estimated Regret')\n",
    "plt.title('Estimated Regret as a Function of Delta')\n",
    "plt.legend()\n",
    "plt.grid(True)\n",
    "plt.show()"
   ]
  },
  {
   "cell_type": "markdown",
   "metadata": {
    "id": "H7dqKCnJh3ni"
   },
   "source": [
    "***\n",
    "# Questions\n",
    "\n",
    "### Q1: The Upper Confidence Bound (UCB) algorithm\n",
    "Repeat the experiment for various values of delta using the UCB algorithm and plot the comparison with ETC. `[10 Marks]`\n",
    "\n",
    "**The Upper Confidence Bound (UCB) algorithm** is a popular algorithm used in multi-armed bandit problems. Its key idea is to balance exploration and exploitation by choosing arms based on both their empirical means and an exploration term. The exploration term is designed to account for uncertainty in the estimates of arm means. Here's how UCB works:\n",
    "\n",
    "Assuming we have two arms with true means $\\mu(0) = \\frac{1}{2}$ and $\\mu(1) = \\frac{1}{2} + \\Delta$, and a time horizon $T = 10000$, the UCB algorithm proceeds as follows:\n",
    "\n",
    "**Initialization:**\n",
    "- Initialize empirical means and counts for each arm.\n",
    "- For each arm $a$, set the empirical mean $\\bar{\\mu}_0(a)$ to $0$ and the count $n_0(a)$ to $0$.\n",
    "\n",
    "**For each time step $t$ from $1$ to $T$:**\n",
    "- For each arm $a$, calculate the Upper Confidence Bound (UCB) for that arm:\n",
    "  $$ UCB_t(a) = \\bar{\\mu}_{t-1}(a) + \\sqrt{\\frac{2\\log(T)}{n_{t-1}(a)}} $$\n",
    "  where:\n",
    "  - $\\mu_t(a)$ is the empirical mean of arm $a$ at time $t$.\n",
    "  - $n_t(a)$ is the count of arm $a$ at time $t$.\n",
    "- Choose the arm with the highest UCB: $ \\text{chosen\\_arm} = \\underset{a}{\\text{arg max}} ~ UCB_t(a) $\n",
    "\n",
    "- Observe the reward $R_t$ for the chosen arm.\n",
    "- Update the empirical mean and count for the chosen arm:\n",
    "$$ n_{t}(\\text{chosen\\_arm}) = n_{t-1}(\\text{chosen\\_arm}) + 1 $$\n",
    "$$ \\bar{\\mu}_{t}(\\text{chosen\\_arm}) = \\frac{\\bar{\\mu}_{t-1}(\\text{chosen\\_arm}) (\\cdot n_{t}(\\text{chosen\\_arm}) -1) + R_t}{n_{t}(\\text{chosen\\_arm})} $$\n",
    "\n",
    "\n",
    "**Repeat until $t = T$.**"
   ]
  },
  {
   "cell_type": "code",
   "execution_count": null,
   "metadata": {
    "colab": {
     "base_uri": "https://localhost:8080/",
     "height": 472
    },
    "id": "buH2QBIih9IL",
    "outputId": "e0e4b7be-1090-4472-8f50-488254542133"
   },
   "outputs": [],
   "source": [
    "## Solution for Q1 ##\n",
    "\n",
    "# Initialize lists to store results\n",
    "average_regrets_ucb = []\n",
    "\n",
    "# UCB constant\n",
    "c_ucb = np.sqrt(3/2)\n",
    "\n",
    "for delta in delta_values:\n",
    "    total_regrets_ucb = []\n",
    "\n",
    "    for _ in range(num_experiments):\n",
    "        # Generate true means based on given values and arms\n",
    "        mu0 = 0.5\n",
    "        mu1 = 0.5 + delta\n",
    "\n",
    "        # Initialize UCB algorithm parameters\n",
    "        empirical_means = np.zeros(K)\n",
    "        arm_counts = np.ones(K)  # Explore each arm once\n",
    "        total_regret_ucb = 0\n",
    "\n",
    "        # Run UCB algorithm after exploring each arm once\n",
    "        for t in range(K + 1, T + 1):\n",
    "            # Calculate UCB for each arm\n",
    "            # write your code here\n",
    "            # [Hint] create and update a ucb_values numpy array same as the size of emperical_means\n",
    "            # ucb_values = ?\n",
    "            \n",
    "            # Choose the arm with the highest UCB calculated above\n",
    "            # write your code here\n",
    "            # store the chosen arm in the variable chosen_arm\n",
    "            # this will be 0 if Arm 1 is chosen and 1 if Arm 2 is chosen\n",
    "            # chosen_arm = ?\n",
    "            \n",
    "            # Observe the reward from the environment for the chosen arm\n",
    "            reward = np.random.binomial(1, mu0 if chosen_arm == 0 else mu1)\n",
    "\n",
    "            # Update arm_counts and empirical_means for the chosen_arm\n",
    "            # write your code here\n",
    "            # arm_counts[chosen_arm] = ?\n",
    "            # empirical_means[chosen_arm] = ?\n",
    "            \n",
    "            # Update total regret\n",
    "            # write your code here\n",
    "            # update the variable total_regret_ucb\n",
    "            # total_regret_ucb = ?\n",
    "            \n",
    "        # Record total regret for this experiment\n",
    "        total_regrets_ucb.append(total_regret_ucb)\n",
    "\n",
    "    # Calculate average regret for this delta\n",
    "    average_regret_ucb = np.mean(total_regrets_ucb)\n",
    "    average_regrets_ucb.append(average_regret_ucb)\n",
    "\n",
    "# print result\n",
    "print(average_regrets_ucb)"
   ]
  },
  {
   "cell_type": "code",
   "execution_count": null,
   "metadata": {},
   "outputs": [],
   "source": [
    "# Comparison of ETC and UCB algorithm.\n",
    "# write your code for plotting here"
   ]
  },
  {
   "cell_type": "markdown",
   "metadata": {
    "id": "YI4dEw869BZ9"
   },
   "source": [
    "### (**Bonus**) Q2: The $\\epsilon$-greedy algorithm\n",
    "Repeat the above experiment for various values of $\\Delta$ using the $\\epsilon$-greedy algorithm and plot the comparison with ETC and UCB. `[5 Marks]`\n",
    "\n",
    "**The $\\epsilon$-greedy algorithm** is a popular algorithm used in multi-armed bandit problems. Its key idea is to balance exploration and exploitation by choosing arms based on both their empirical means and mixing it up sometimes with exploration. The exploration probabiliy $\\epsilon$ designed to account for the fact that true means are not known and some exploration will help us find a better estimate of that. Here's how $\\epsilon$-greedy works:\n",
    "\n",
    "Assuming we have two arms with true means $\\mu(0) = \\frac{1}{2}$ and $\\mu(1) = \\frac{1}{2} + \\Delta$, and a time horizon $T = 10000$, the $\\epsilon$-greedy algorithm proceeds as follows:\n",
    "\n",
    "**Initialization:**\n",
    "- Initialize empirical means and counts for each arm.\n",
    "- For each arm $a$, set the empirical mean $\\bar{\\mu}_0(a)$ to $0$ and the count $n_0(a)$ to $0$.\n",
    "\n",
    "**For each time step $t$ from $1$ to $T$:**\n",
    "- Toss a coin with probability of heads as $1-\\epsilon$\n",
    "- If we get Heads:\n",
    "    - Choose the arm with the highest empirical mean: $ \\text{chosen\\_arm} = \\underset{a}{\\text{arg max}} \\bar{\\mu}_t(a) $\n",
    "- else:\n",
    "    - Choose an arm at random\n",
    "\n",
    "- Observe the reward $R_t$ for the chosen arm.\n",
    "- Update the empirical mean and count for the chosen arm:\n",
    "$$ n_{t}(\\text{chosen\\_arm}) = n_{t-1}(\\text{chosen\\_arm}) + 1 $$\n",
    "$$ \\bar{\\mu}_{t}(\\text{chosen\\_arm}) = \\frac{\\bar{\\mu}_{t-1}(\\text{chosen\\_arm}) (\\cdot n_{t}(\\text{chosen\\_arm}) -1) + R_t}{n_{t}(\\text{chosen\\_arm})} $$\n",
    "\n",
    "\n",
    "The constant $\\epsilon$ in the $\\epsilon$-greedy algorithm controls the trade-off between exploration and exploitation. A common choice is $\\epsilon = 0.1$."
   ]
  },
  {
   "cell_type": "code",
   "execution_count": null,
   "metadata": {
    "colab": {
     "base_uri": "https://localhost:8080/",
     "height": 472
    },
    "id": "qcY15DJb9Xyp",
    "outputId": "dde213c5-1df4-4f0e-d399-9d0211b7f24c"
   },
   "outputs": [],
   "source": [
    "## Solution for Q2 Problem ##\n",
    "\n",
    "# Write here your modification to the code that includes this consideration for the ETC algorithm:\n",
    "\n",
    "# Initialize lists to store results\n",
    "average_regrets_egreedy = []\n",
    "\n",
    "for delta in delta_values:\n",
    "    total_regrets_egreedy = []\n",
    "\n",
    "    for _ in range(num_experiments):\n",
    "        # Generate true means based on given values and arms\n",
    "        mu0 = 0.5\n",
    "        mu1 = 0.5 + delta\n",
    "\n",
    "        # Define the epsilon parameter\n",
    "        e = 0.1\n",
    "\n",
    "        # Initialize ETC algorithm parameters with optimized m\n",
    "        empirical_means = np.zeros(K)\n",
    "        arm_counts = np.zeros(K)\n",
    "        total_regret_egreedy = 0\n",
    "\n",
    "        # Run ETC algorithm with optimized m\n",
    "        for t in range(1, T + 1):\n",
    "            # Explore each arm m times then -> Commit to the arm with the highest empirical mean\n",
    "            # write code here for choosing the arm here for the $\\epsilon$-greedy algorithm\n",
    "            # store the chosen arm in the variable chosen_arm\n",
    "            # this will be 0 if Arm 0 is chosen and 1 if Arm 1 is chosen\n",
    "            \n",
    "            # Observe the reward\n",
    "            reward = np.random.binomial(1, mu0 if chosen_arm == 0 else mu1)\n",
    "\n",
    "            # Update arm_counts and empirical_means for the chosen_arm\n",
    "            # write your code here\n",
    "            # arm_counts[chosen_arm] = ?\n",
    "            # empirical_means[chosen_arm] = ?\n",
    "            \n",
    "            # Update total regret\n",
    "            # write your code here\n",
    "            # update the variable total_regret_egreedy\n",
    "            # total_regret_egreedy = ?\n",
    "\n",
    "        # Record total regret for this experiment\n",
    "        total_regrets_egreedy.append(total_regret_egreedy)\n",
    "\n",
    "    # Calculate average regret for this delta\n",
    "    average_regret_egreedy = np.mean(total_regrets_egreedy)\n",
    "    average_regrets_egreedy.append(average_regret_egreedy)\n",
    "\n",
    "# print result\n",
    "print(average_regrets_egreedy)"
   ]
  },
  {
   "cell_type": "code",
   "execution_count": null,
   "metadata": {},
   "outputs": [],
   "source": [
    "# Final plot containing all the Algorithm's estimated regret vs delta\n",
    "# write your code for plotting here"
   ]
  },
  {
   "cell_type": "markdown",
   "metadata": {
    "id": "lizCjOccMLTy"
   },
   "source": [
    "**Conclusion, what do you observe?:** <br />\n",
    "\n",
    "Write your answer here"
   ]
  }
 ],
 "metadata": {
  "colab": {
   "provenance": []
  },
  "kernelspec": {
   "display_name": "Python 3.9.5 64-bit",
   "language": "python",
   "name": "python3"
  },
  "language_info": {
   "codemirror_mode": {
    "name": "ipython",
    "version": 3
   },
   "file_extension": ".py",
   "mimetype": "text/x-python",
   "name": "python",
   "nbconvert_exporter": "python",
   "pygments_lexer": "ipython3",
   "version": "3.12.0"
  },
  "vscode": {
   "interpreter": {
    "hash": "f9f85f796d01129d0dd105a088854619f454435301f6ffec2fea96ecbd9be4ac"
   }
  }
 },
 "nbformat": 4,
 "nbformat_minor": 4
}
